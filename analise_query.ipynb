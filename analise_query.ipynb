{
 "cells": [
  {
   "cell_type": "code",
   "execution_count": 1,
   "metadata": {
    "colab": {
     "base_uri": "https://localhost:8080/"
    },
    "id": "QbsQyXx1jQin",
    "outputId": "eeab3a38-4997-4eff-a9d5-ce5d6b3c95ae"
   },
   "outputs": [
    {
     "name": "stdout",
     "output_type": "stream",
     "text": [
      "Note: you may need to restart the kernel to use updated packages.\n",
      "Note: you may need to restart the kernel to use updated packages.\n"
     ]
    }
   ],
   "source": [
    "%pip install -q pyspark\n",
    "%pip install -q pandas"
   ]
  },
  {
   "cell_type": "markdown",
   "metadata": {
    "id": "In1Han0BZ71J"
   },
   "source": [
    "~~~~sql\n",
    "SELECT\n",
    "  co.order_id,\n",
    "  co.customer_name,\n",
    "  co.customer_id,\n",
    "  ad.address,\n",
    "  ad.state,\n",
    "  ad.country,\n",
    "  ad.zip_code\n",
    "FROM\n",
    "  customer_orders co\n",
    "JOIN address_details ad ON co.order_id = ad.order_id\n",
    "WHERE LENGTH(ad.address) >= 5 AND ad.address NOT IN ('-', '', 'SOME ADDRESS')\n",
    "ORDER BY co.order_id;\n",
    "~~~~"
   ]
  },
  {
   "cell_type": "markdown",
   "metadata": {
    "id": "NOQyV8M-baEH"
   },
   "source": [
    "<h5 align=\"justify\"> A constulta SQL retorna a combinação de duas tabelas, a tabela que registra pedidos e uma que registra endereços para onde os pedidos foram enviados. Para juntar as tabelas e utilizado o indicador do pedido, que exista nas duas tabelas. Para garantir que ele retorne apenas endereços validos ele filtra a tabela pelo tamanho do campo address da tabela address_details e verifica o campo tem algumas das strings da lista, e ordena pelo indicador do pedido </h5>\n"
   ]
  },
  {
   "cell_type": "code",
   "execution_count": 2,
   "metadata": {
    "colab": {
     "base_uri": "https://localhost:8080/",
     "height": 206
    },
    "id": "PCcqhJ9aexVp",
    "outputId": "ad27fd78-f381-4529-fa19-64dc0151e2cc"
   },
   "outputs": [
    {
     "data": {
      "text/html": [
       "<div>\n",
       "<style scoped>\n",
       "    .dataframe tbody tr th:only-of-type {\n",
       "        vertical-align: middle;\n",
       "    }\n",
       "\n",
       "    .dataframe tbody tr th {\n",
       "        vertical-align: top;\n",
       "    }\n",
       "\n",
       "    .dataframe thead th {\n",
       "        text-align: right;\n",
       "    }\n",
       "</style>\n",
       "<table border=\"1\" class=\"dataframe\">\n",
       "  <thead>\n",
       "    <tr style=\"text-align: right;\">\n",
       "      <th></th>\n",
       "      <th>order_id</th>\n",
       "      <th>customer_name</th>\n",
       "      <th>customer_id</th>\n",
       "      <th>address</th>\n",
       "      <th>state</th>\n",
       "      <th>country</th>\n",
       "      <th>zip_code</th>\n",
       "    </tr>\n",
       "  </thead>\n",
       "  <tbody>\n",
       "    <tr>\n",
       "      <th>0</th>\n",
       "      <td>1</td>\n",
       "      <td>cliente2</td>\n",
       "      <td>2</td>\n",
       "      <td>Endereço 2</td>\n",
       "      <td>PA</td>\n",
       "      <td>BRAZIL</td>\n",
       "      <td>22</td>\n",
       "    </tr>\n",
       "    <tr>\n",
       "      <th>4</th>\n",
       "      <td>5</td>\n",
       "      <td>cliente6</td>\n",
       "      <td>6</td>\n",
       "      <td>Endereço 5</td>\n",
       "      <td>PA</td>\n",
       "      <td>BRAZIL</td>\n",
       "      <td>66</td>\n",
       "    </tr>\n",
       "    <tr>\n",
       "      <th>5</th>\n",
       "      <td>6</td>\n",
       "      <td>cliente5</td>\n",
       "      <td>5</td>\n",
       "      <td>Endereço 5</td>\n",
       "      <td>PA</td>\n",
       "      <td>BRAZIL</td>\n",
       "      <td>56</td>\n",
       "    </tr>\n",
       "    <tr>\n",
       "      <th>7</th>\n",
       "      <td>8</td>\n",
       "      <td>cliente6</td>\n",
       "      <td>6</td>\n",
       "      <td>Endereço 6</td>\n",
       "      <td>PR</td>\n",
       "      <td>BRAZIL</td>\n",
       "      <td>66</td>\n",
       "    </tr>\n",
       "    <tr>\n",
       "      <th>8</th>\n",
       "      <td>9</td>\n",
       "      <td>cliente6</td>\n",
       "      <td>6</td>\n",
       "      <td>Endereço 6</td>\n",
       "      <td>PA</td>\n",
       "      <td>BRAZIL</td>\n",
       "      <td>66</td>\n",
       "    </tr>\n",
       "  </tbody>\n",
       "</table>\n",
       "</div>"
      ],
      "text/plain": [
       "   order_id customer_name  customer_id     address state country  zip_code\n",
       "0         1      cliente2            2  Endereço 2    PA  BRAZIL        22\n",
       "4         5      cliente6            6  Endereço 5    PA  BRAZIL        66\n",
       "5         6      cliente5            5  Endereço 5    PA  BRAZIL        56\n",
       "7         8      cliente6            6  Endereço 6    PR  BRAZIL        66\n",
       "8         9      cliente6            6  Endereço 6    PA  BRAZIL        66"
      ]
     },
     "execution_count": 2,
     "metadata": {},
     "output_type": "execute_result"
    }
   ],
   "source": [
    "import pandas as pd\n",
    "\n",
    "customer_orders = pd.DataFrame(data={\n",
    "    \"order_id\": [1, 2, 3, 4, 5, 6, 7, 8, 9, 10],\n",
    "    \"customer_name\": [\n",
    "        \"cliente2\", \"cliente3\", \"cliente6\", \"cliente4\", \"cliente6\", \"cliente5\", \"cliente1\", \"cliente6\", \"cliente6\", \"cliente3\"\n",
    "    ],\n",
    "    \"customer_id\": [2, 3, 6, 4, 6, 5, 1, 6, 6, 3],\n",
    "})\n",
    "\n",
    "address_details = pd.DataFrame(data={\n",
    "    \"order_id\": [1, 2, 3, 4, 5, 6, 7, 8, 9, 10],\n",
    "    \"address\": [\n",
    "        \"Endereço 2\", \"End\", \"-\", \"\", \"Endereço 5\", \"Endereço 5\", \"SOME ADDRESS\", \"Endereço 6\", \"Endereço 6\", \"\"\n",
    "    ],\n",
    "    \"state\": [\"PA\", \"\", \"PI\", \"\", \"PA\", \"PA\", \"PA\", \"PR\", \"PA\", \"\"],\n",
    "    \"country\": [\n",
    "        \"BRAZIL\", \"\", \"BRAZIL\", \"\", \"BRAZIL\", \"BRAZIL\", \"BRAZIL\", \"BRAZIL\", \"BRAZIL\", \"\"],\n",
    "    \"zip_code\": [22, 33, 66, 44, 66, 56, 11, 66, 66, 33]\n",
    "})\n",
    "\n",
    "\n",
    "orders_address = pd.merge(\n",
    "    customer_orders, address_details, on=\"order_id\", how=\"outer\")\n",
    "\n",
    "filter = (orders_address['address'].str.len() >= 5) \\\n",
    "          & (~orders_address['address'].isin(['-', '', 'SOME ADDRESS']))\n",
    "\n",
    "orders_address = orders_address[filter] \\\n",
    "  .sort_values('order_id')\n",
    "\n",
    "orders_address"
   ]
  },
  {
   "cell_type": "code",
   "execution_count": 6,
   "metadata": {
    "colab": {
     "base_uri": "https://localhost:8080/"
    },
    "id": "2PUTuMOnlATq",
    "outputId": "57e2ffd1-0363-4a6f-e76e-537085b5ebdb"
   },
   "outputs": [
    {
     "name": "stdout",
     "output_type": "stream",
     "text": [
      "+--------+-------------+-----------+----------+-----+-------+--------+\n",
      "|order_id|customer_name|customer_id|   address|state|country|zip_code|\n",
      "+--------+-------------+-----------+----------+-----+-------+--------+\n",
      "|       1|     cliente2|          2|Endereço 2|   PA| BRAZIL|      22|\n",
      "|       5|     cliente6|          6|Endereço 5|   PA| BRAZIL|      66|\n",
      "|       6|     cliente5|          5|Endereço 5|   PA| BRAZIL|      56|\n",
      "|       8|     cliente6|          6|Endereço 6|   PR| BRAZIL|      66|\n",
      "|       9|     cliente6|          6|Endereço 6|   PA| BRAZIL|      66|\n",
      "+--------+-------------+-----------+----------+-----+-------+--------+\n",
      "\n"
     ]
    }
   ],
   "source": [
    "from pyspark.sql import SparkSession\n",
    "from pyspark.sql.functions import col, length\n",
    "\n",
    "spark = SparkSession.builder \\\n",
    "    .master(\"local[1]\") \\\n",
    "    .appName(\"spark_example\") \\\n",
    "    .getOrCreate()\n",
    "\n",
    "customer_orders_spark=spark.createDataFrame(customer_orders)\n",
    "address_details_spark=spark.createDataFrame(address_details)\n",
    "\n",
    "orders_address_spark = customer_orders_spark.join(\n",
    "    address_details_spark, on=\"order_id\", how=\"outer\"\n",
    ")\n",
    "\n",
    "orders_address_spark = orders_address_spark.where(\n",
    "    (length(col('address')) >= 5) & (~col('address').isin(['-', '', 'SOME ADDRESS']))\n",
    ").orderBy(\"order_id\")\n",
    "\n",
    "orders_address_spark.show()"
   ]
  }
 ],
 "metadata": {
  "colab": {
   "provenance": []
  },
  "kernelspec": {
   "display_name": "Python 3 (ipykernel)",
   "language": "python",
   "name": "python3"
  },
  "language_info": {
   "codemirror_mode": {
    "name": "ipython",
    "version": 3
   },
   "file_extension": ".py",
   "mimetype": "text/x-python",
   "name": "python",
   "nbconvert_exporter": "python",
   "pygments_lexer": "ipython3",
   "version": "3.11.10"
  }
 },
 "nbformat": 4,
 "nbformat_minor": 4
}
